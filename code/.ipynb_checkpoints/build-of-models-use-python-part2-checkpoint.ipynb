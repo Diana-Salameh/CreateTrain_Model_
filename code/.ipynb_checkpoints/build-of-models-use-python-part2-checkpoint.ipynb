{
 "cells": [
  {
   "cell_type": "code",
   "execution_count": 8,
   "metadata": {},
   "outputs": [],
   "source": [
    "import pandas as pd\n",
    "import numpy as np\n",
    "from sklearn.neighbors import KNeighborsClassifier"
   ]
  },
  {
   "cell_type": "code",
   "execution_count": 9,
   "metadata": {},
   "outputs": [],
   "source": [
    "def red_csv():\n",
    "    # read dataframe\n",
    "    train = pd.read_csv(\"C:\\\\Users\\\\King\\\\Desktop\\\\project_\\\\train.txt\", header=None, sep=\" \")\n",
    "    #read all columns and rows\n",
    "    pd.set_option('display.max_columns', None)\n",
    "    pd.set_option('display.max_rows', None)\n",
    "    return train"
   ]
  },
  {
   "cell_type": "code",
   "execution_count": 10,
   "metadata": {},
   "outputs": [],
   "source": [
    "#delete \":\" of data\n",
    "def extract_query(qstr):\n",
    "    return qstr[4:]\n",
    "\n",
    "def extract_features(features):\n",
    "    return features.split(':')[1]"
   ]
  },
  {
   "cell_type": "code",
   "execution_count": 11,
   "metadata": {},
   "outputs": [],
   "source": [
    "def df_preparing(df):\n",
    "    df[1] = df[1].apply(extract_query)\n",
    "    df[df.columns[2:]] = df[df.columns[2:]].applymap(extract_features)\n",
    "    return df"
   ]
  },
  {
   "cell_type": "code",
   "execution_count": 23,
   "metadata": {},
   "outputs": [],
   "source": [
    "def build_model():\n",
    "    train_df = df_preparing(red_csv())\n",
    "    # Divide the data into training and testing\n",
    "    test=train_df[0:300]\n",
    "    train=train_df[300:]\n",
    "    \n",
    "    # Divide the train data into x, y\n",
    "    train_X = train[train.columns[2:]]\n",
    "    train_y = train[0]\n",
    "    \n",
    "    # Divide the test data into x, y\n",
    "    test_X = test[test.columns[2:]]\n",
    "    test_x=test_X[test_X.columns[2:]][:296:4]\n",
    "    test_y= test[0]    \n",
    "     \n",
    "    clf = KNeighborsClassifier()\n",
    "    # Data training\n",
    "    clf.fit(train_X, train_y)\n",
    "    # checked of score\n",
    "    clf.score(train_X,train_y)\n",
    "\n",
    "    # Test model\n",
    "    distances, indices = clf.kneighbors(test_X,  n_neighbors=10)\n",
    "    return distances,indices\n"
   ]
  },
  {
   "cell_type": "code",
   "execution_count": 28,
   "metadata": {},
   "outputs": [],
   "source": [
    "def main():\n",
    "    # build array \n",
    "    \n",
    "    \n",
    "    distances,indices=build_model()\n",
    "    \n",
    "    # print prediction\n",
    "    pd.DataFrame(distances)\n",
    "    pd.DataFrame(indices)\n"
   ]
  },
  {
   "cell_type": "code",
   "execution_count": 29,
   "metadata": {},
   "outputs": [],
   "source": [
    "if __name__ == \"__main__\":\n",
    "    main()"
   ]
  },
  {
   "cell_type": "code",
   "execution_count": null,
   "metadata": {},
   "outputs": [],
   "source": []
  }
 ],
 "metadata": {
  "kernelspec": {
   "display_name": "Python 3",
   "language": "python",
   "name": "python3"
  },
  "language_info": {
   "codemirror_mode": {
    "name": "ipython",
    "version": 3
   },
   "file_extension": ".py",
   "mimetype": "text/x-python",
   "name": "python",
   "nbconvert_exporter": "python",
   "pygments_lexer": "ipython3",
   "version": "3.8.3"
  }
 },
 "nbformat": 4,
 "nbformat_minor": 2
}
